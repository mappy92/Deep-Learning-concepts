{
 "cells": [
  {
   "cell_type": "code",
   "execution_count": 1,
   "id": "189acf1e",
   "metadata": {},
   "outputs": [
    {
     "data": {
      "text/plain": [
       "'c'"
      ]
     },
     "execution_count": 1,
     "metadata": {},
     "output_type": "execute_result"
    }
   ],
   "source": [
    "text = 'ice cream'\n",
    "text[1]"
   ]
  },
  {
   "cell_type": "code",
   "execution_count": 2,
   "id": "284e7328",
   "metadata": {},
   "outputs": [],
   "source": [
    "#text[3] = 'F' # Strings are immutable"
   ]
  },
  {
   "cell_type": "code",
   "execution_count": 3,
   "id": "01a134c6",
   "metadata": {},
   "outputs": [
    {
     "data": {
      "text/plain": [
       "'ice'"
      ]
     },
     "execution_count": 3,
     "metadata": {},
     "output_type": "execute_result"
    }
   ],
   "source": [
    "text[0:3] # first index is included and second index is excluded"
   ]
  },
  {
   "cell_type": "code",
   "execution_count": 4,
   "id": "5dca349e",
   "metadata": {},
   "outputs": [
    {
     "data": {
      "text/plain": [
       "'cream'"
      ]
     },
     "execution_count": 4,
     "metadata": {},
     "output_type": "execute_result"
    }
   ],
   "source": [
    "text[4:] # goes till end"
   ]
  },
  {
   "cell_type": "code",
   "execution_count": 5,
   "id": "e5f7e891",
   "metadata": {},
   "outputs": [
    {
     "data": {
      "text/plain": [
       "'ice c'"
      ]
     },
     "execution_count": 5,
     "metadata": {},
     "output_type": "execute_result"
    }
   ],
   "source": [
    "text[:5] # starts from beginning"
   ]
  },
  {
   "cell_type": "code",
   "execution_count": 6,
   "id": "b05be748",
   "metadata": {},
   "outputs": [
    {
     "name": "stdout",
     "output_type": "stream",
     "text": [
      "29 haynes Avenue\n",
      "St Catharines\n",
      "Ontario, L2R 3Z5\n"
     ]
    },
    {
     "data": {
      "text/plain": [
       "(None, '29 haynes Avenue\\nSt Catharines\\nOntario, L2R 3Z5')"
      ]
     },
     "execution_count": 6,
     "metadata": {},
     "output_type": "execute_result"
    }
   ],
   "source": [
    "address = '''29 haynes Avenue\n",
    "St Catharines\n",
    "Ontario, L2R 3Z5'''\n",
    "print(address), address"
   ]
  },
  {
   "cell_type": "code",
   "execution_count": 7,
   "id": "0e450ab0",
   "metadata": {},
   "outputs": [
    {
     "data": {
      "text/plain": [
       "'Hello 0.07'"
      ]
     },
     "execution_count": 7,
     "metadata": {},
     "output_type": "execute_result"
    }
   ],
   "source": [
    "s =\"Hello \"\n",
    "n = 0.07\n",
    "s+str(n)"
   ]
  },
  {
   "cell_type": "code",
   "execution_count": 8,
   "id": "56293a55",
   "metadata": {},
   "outputs": [
    {
     "data": {
      "text/plain": [
       "'v'"
      ]
     },
     "execution_count": 8,
     "metadata": {},
     "output_type": "execute_result"
    }
   ],
   "source": [
    "# Lists\n",
    "items = ['b','p','v','f']\n",
    "items[2]"
   ]
  },
  {
   "cell_type": "code",
   "execution_count": 9,
   "id": "9772440d",
   "metadata": {},
   "outputs": [
    {
     "data": {
      "text/plain": [
       "('f', 'v')"
      ]
     },
     "execution_count": 9,
     "metadata": {},
     "output_type": "execute_result"
    }
   ],
   "source": [
    "items[-1], items[-2] # -1 means last element"
   ]
  },
  {
   "cell_type": "code",
   "execution_count": 10,
   "id": "2aac78f8",
   "metadata": {},
   "outputs": [
    {
     "data": {
      "text/plain": [
       "['b', 'p', 'v', 'f', 'c']"
      ]
     },
     "execution_count": 10,
     "metadata": {},
     "output_type": "execute_result"
    }
   ],
   "source": [
    "items.append('c')\n",
    "items"
   ]
  },
  {
   "cell_type": "code",
   "execution_count": 11,
   "id": "2046a49b",
   "metadata": {},
   "outputs": [
    {
     "data": {
      "text/plain": [
       "['b', 'd', 'p', 'v', 'f', 'c']"
      ]
     },
     "execution_count": 11,
     "metadata": {},
     "output_type": "execute_result"
    }
   ],
   "source": [
    "items.insert(1, 'd')\n",
    "items"
   ]
  },
  {
   "cell_type": "code",
   "execution_count": 12,
   "id": "28fc4ff6",
   "metadata": {},
   "outputs": [
    {
     "data": {
      "text/plain": [
       "['a', 'b', 'c', 'd']"
      ]
     },
     "execution_count": 12,
     "metadata": {},
     "output_type": "execute_result"
    }
   ],
   "source": [
    "food =['a','b']\n",
    "bathroom = ['c', 'd']\n",
    "food+bathroom # caoncatenation"
   ]
  },
  {
   "cell_type": "code",
   "execution_count": 13,
   "id": "eb1c0a1a",
   "metadata": {},
   "outputs": [
    {
     "data": {
      "text/plain": [
       "6"
      ]
     },
     "execution_count": 13,
     "metadata": {},
     "output_type": "execute_result"
    }
   ],
   "source": [
    "len(items)"
   ]
  },
  {
   "cell_type": "code",
   "execution_count": 14,
   "id": "5bb9f1f1",
   "metadata": {},
   "outputs": [
    {
     "data": {
      "text/plain": [
       "True"
      ]
     },
     "execution_count": 14,
     "metadata": {},
     "output_type": "execute_result"
    }
   ],
   "source": [
    "'b' in items"
   ]
  },
  {
   "cell_type": "code",
   "execution_count": 15,
   "id": "c2e39031",
   "metadata": {},
   "outputs": [
    {
     "name": "stdout",
     "output_type": "stream",
     "text": [
      "1\n",
      "9\n",
      "25\n"
     ]
    }
   ],
   "source": [
    "for i in range(1,6):\n",
    "    if(i%2==0):\n",
    "        continue\n",
    "    print(i*i)"
   ]
  },
  {
   "cell_type": "code",
   "execution_count": 16,
   "id": "d8e4d02b",
   "metadata": {},
   "outputs": [
    {
     "data": {
      "text/plain": [
       "6"
      ]
     },
     "execution_count": 16,
     "metadata": {},
     "output_type": "execute_result"
    }
   ],
   "source": [
    "#functions\n",
    "\"\"\" Sum function which takes two arguments\n",
    "And returns the final value\n",
    "\"\"\" # documentation strings\n",
    "def sum(a,b=1): # if b argument is not passed then its default value is given\n",
    "    return a+b\n",
    "sum(5)"
   ]
  },
  {
   "cell_type": "code",
   "execution_count": 17,
   "id": "1f4186f4",
   "metadata": {},
   "outputs": [
    {
     "data": {
      "text/plain": [
       "14"
      ]
     },
     "execution_count": 17,
     "metadata": {},
     "output_type": "execute_result"
    }
   ],
   "source": [
    "sum(5,9)"
   ]
  },
  {
   "cell_type": "code",
   "execution_count": 18,
   "id": "b9e41f79",
   "metadata": {},
   "outputs": [
    {
     "data": {
      "text/plain": [
       "'123456'"
      ]
     },
     "execution_count": 18,
     "metadata": {},
     "output_type": "execute_result"
    }
   ],
   "source": [
    "# Dictionaries (Associate arrays, Hash Tables & Maps) and Tuples\n",
    "d={\n",
    "    \"John\" : \"123456\",\n",
    "    \"Rob\": \"435678\",\n",
    "    \"Jill\": \"435453\"\n",
    "  }\n",
    "d[\"John\"]"
   ]
  },
  {
   "cell_type": "code",
   "execution_count": 19,
   "id": "4cbf75b0",
   "metadata": {},
   "outputs": [
    {
     "data": {
      "text/plain": [
       "{'John': '123456', 'Rob': '435678', 'Jill': '435453', 'Sam': '783425'}"
      ]
     },
     "execution_count": 19,
     "metadata": {},
     "output_type": "execute_result"
    }
   ],
   "source": [
    "d[\"Sam\"] = '783425'\n",
    "d # Order doesn't matter"
   ]
  },
  {
   "cell_type": "code",
   "execution_count": 20,
   "id": "4766dbf2",
   "metadata": {},
   "outputs": [
    {
     "name": "stdout",
     "output_type": "stream",
     "text": [
      "key:  John Value:  123456\n",
      "key:  Rob Value:  435678\n",
      "key:  Jill Value:  435453\n",
      "key:  Sam Value:  783425\n"
     ]
    }
   ],
   "source": [
    "#Iterate each item\n",
    "for key in d:\n",
    "    print(\"key: \", key, \"Value: \", d[key])"
   ]
  },
  {
   "cell_type": "code",
   "execution_count": 21,
   "id": "56de431e",
   "metadata": {},
   "outputs": [
    {
     "name": "stdout",
     "output_type": "stream",
     "text": [
      "key:  John Value:  123456\n",
      "key:  Rob Value:  435678\n",
      "key:  Jill Value:  435453\n",
      "key:  Sam Value:  783425\n"
     ]
    }
   ],
   "source": [
    "for k,v in d.items():\n",
    "    print(\"key: \", k, \"Value: \", v)"
   ]
  },
  {
   "cell_type": "code",
   "execution_count": 22,
   "id": "9edf1bc0",
   "metadata": {},
   "outputs": [
    {
     "data": {
      "text/plain": [
       "True"
      ]
     },
     "execution_count": 22,
     "metadata": {},
     "output_type": "execute_result"
    }
   ],
   "source": [
    "\"John\" in d"
   ]
  },
  {
   "cell_type": "code",
   "execution_count": 23,
   "id": "9bcaee5a",
   "metadata": {},
   "outputs": [
    {
     "data": {
      "text/plain": [
       "{}"
      ]
     },
     "execution_count": 23,
     "metadata": {},
     "output_type": "execute_result"
    }
   ],
   "source": [
    "d.clear() # Wipe out all entries\n",
    "d"
   ]
  },
  {
   "cell_type": "code",
   "execution_count": 24,
   "id": "60089d61",
   "metadata": {},
   "outputs": [
    {
     "data": {
      "text/plain": [
       "(5, 9)"
      ]
     },
     "execution_count": 24,
     "metadata": {},
     "output_type": "execute_result"
    }
   ],
   "source": [
    "# Tuples - List of values are grouped together\n",
    "point = (5,9)\n",
    "point[0], point[1] # in tuple all the values has different meaning like X,Y - heterogeneous"
   ]
  },
  {
   "cell_type": "code",
   "execution_count": 25,
   "id": "715531f7",
   "metadata": {},
   "outputs": [],
   "source": [
    "#point[0] = 6 # Tuples are immutable"
   ]
  },
  {
   "cell_type": "code",
   "execution_count": 26,
   "id": "f7136a70",
   "metadata": {},
   "outputs": [
    {
     "data": {
      "text/plain": [
       "(4.0, 32.0, 32)"
      ]
     },
     "execution_count": 26,
     "metadata": {},
     "output_type": "execute_result"
    }
   ],
   "source": [
    "# Modules\n",
    "import math\n",
    "math.sqrt(16), math.pow(2, 5), 2**5"
   ]
  },
  {
   "cell_type": "code",
   "execution_count": 27,
   "id": "0174b8f0",
   "metadata": {},
   "outputs": [],
   "source": [
    "# dir(math) gives me the information about math module"
   ]
  },
  {
   "cell_type": "code",
   "execution_count": 28,
   "id": "c584f199",
   "metadata": {},
   "outputs": [
    {
     "data": {
      "text/plain": [
       "3.141592653589793"
      ]
     },
     "execution_count": 28,
     "metadata": {},
     "output_type": "execute_result"
    }
   ],
   "source": [
    "math.pi"
   ]
  },
  {
   "cell_type": "code",
   "execution_count": 29,
   "id": "aa9cf85a",
   "metadata": {},
   "outputs": [
    {
     "name": "stdout",
     "output_type": "stream",
     "text": [
      "    August 2024\n",
      "Mo Tu We Th Fr Sa Su\n",
      "          1  2  3  4\n",
      " 5  6  7  8  9 10 11\n",
      "12 13 14 15 16 17 18\n",
      "19 20 21 22 23 24 25\n",
      "26 27 28 29 30 31\n",
      "\n"
     ]
    }
   ],
   "source": [
    "import calendar\n",
    "cal = calendar.month(2024,8)\n",
    "print(cal)"
   ]
  },
  {
   "cell_type": "code",
   "execution_count": 30,
   "id": "775814a9",
   "metadata": {},
   "outputs": [
    {
     "data": {
      "text/plain": [
       "True"
      ]
     },
     "execution_count": 30,
     "metadata": {},
     "output_type": "execute_result"
    }
   ],
   "source": [
    "calendar.isleap(2024)"
   ]
  },
  {
   "cell_type": "code",
   "execution_count": 31,
   "id": "ab985506",
   "metadata": {},
   "outputs": [],
   "source": [
    "import sys\n",
    "#sys.path.append(\"Path of the code or py files\")"
   ]
  },
  {
   "cell_type": "code",
   "execution_count": 32,
   "id": "d9492d74",
   "metadata": {},
   "outputs": [
    {
     "data": {
      "text/plain": [
       "'{\"bob\": {\"name\": \"bob\", \"address\": \"1 brown street ON\", \"phone\": \"9090909090\"}, \"tom\": {\"name\": \"tom\", \"address\": \"1 green street ON\", \"phone\": \"8989898989\"}}'"
      ]
     },
     "execution_count": 32,
     "metadata": {},
     "output_type": "execute_result"
    }
   ],
   "source": [
    "book = {}\n",
    "book['bob'] = {\n",
    "    'name':'bob',\n",
    "    'address':'1 brown street ON',\n",
    "    'phone':'9090909090'\n",
    "}\n",
    "book['tom'] = {\n",
    "    'name':'tom',\n",
    "    'address':'1 green street ON',\n",
    "    'phone':'8989898989'\n",
    "}\n",
    "import json\n",
    "s = json.dumps(book) # dumping the dictionary object by converting into strings\n",
    "s"
   ]
  },
  {
   "cell_type": "code",
   "execution_count": 33,
   "id": "13ecee90",
   "metadata": {},
   "outputs": [],
   "source": [
    "with open('C://Mappy//book.txt', 'w') as f:\n",
    "    f.write(s)"
   ]
  },
  {
   "cell_type": "code",
   "execution_count": 34,
   "id": "196bdd67",
   "metadata": {},
   "outputs": [
    {
     "data": {
      "text/plain": [
       "{'bob': {'name': 'bob', 'address': '1 brown street ON', 'phone': '9090909090'},\n",
       " 'tom': {'name': 'tom', 'address': '1 green street ON', 'phone': '8989898989'}}"
      ]
     },
     "execution_count": 34,
     "metadata": {},
     "output_type": "execute_result"
    }
   ],
   "source": [
    "json.loads(s) # this is a python dictionary that is coverted from a string"
   ]
  },
  {
   "cell_type": "code",
   "execution_count": 35,
   "id": "b4d1ef2b",
   "metadata": {},
   "outputs": [
    {
     "data": {
      "text/plain": [
       "(dict, str)"
      ]
     },
     "execution_count": 35,
     "metadata": {},
     "output_type": "execute_result"
    }
   ],
   "source": [
    "type(book), type(s)"
   ]
  },
  {
   "cell_type": "code",
   "execution_count": 36,
   "id": "aecbda15",
   "metadata": {},
   "outputs": [
    {
     "data": {
      "text/plain": [
       "'1 brown street ON'"
      ]
     },
     "execution_count": 36,
     "metadata": {},
     "output_type": "execute_result"
    }
   ],
   "source": [
    "book['bob']['address']"
   ]
  },
  {
   "cell_type": "code",
   "execution_count": 37,
   "id": "b0b052e2",
   "metadata": {},
   "outputs": [],
   "source": [
    "f=open('C:\\\\Mappy\\\\book.txt', 'a') # w - overwrite the file a- append the content\n",
    "f.write('\\nPython is used in AM/AL')\n",
    "f.close()"
   ]
  },
  {
   "cell_type": "code",
   "execution_count": 38,
   "id": "f196225c",
   "metadata": {},
   "outputs": [
    {
     "name": "stdout",
     "output_type": "stream",
     "text": [
      "{\"bob\": {\"name\": \"bob\", \"address\": \"1 brown street ON\", \"phone\": \"9090909090\"}, \"tom\": {\"name\": \"tom\", \"address\": \"1 green street ON\", \"phone\": \"8989898989\"}}\n",
      "Python is used in AM/AL\n"
     ]
    }
   ],
   "source": [
    "f=open('C:\\\\Mappy\\\\book.txt', 'r')\n",
    "print(f.read())"
   ]
  },
  {
   "cell_type": "code",
   "execution_count": 39,
   "id": "8673c28c",
   "metadata": {},
   "outputs": [
    {
     "name": "stdout",
     "output_type": "stream",
     "text": [
      "20\n",
      "5\n"
     ]
    }
   ],
   "source": [
    "f=open('C:\\\\Mappy\\\\book.txt', 'r') # r+ for both Write and read and w+ both for read write and create file\n",
    "                                   #if doesn't exist and overwrite if exists\n",
    "f_out=open('C:\\\\Mappy\\\\out.txt', 'w')\n",
    "for line in f:\n",
    "    tokens = line.split(' ')\n",
    "    f_out.write(\" wordcount : \"+ str(len(tokens))+' '+ line)\n",
    "    print(len(tokens))\n",
    "f.close()\n",
    "f_out.close()\n",
    "#With statement we don't have to close the file explicitly and can be checked with f.closed flag "
   ]
  },
  {
   "cell_type": "code",
   "execution_count": 40,
   "id": "7b15df9a",
   "metadata": {},
   "outputs": [],
   "source": [
    "#if __name__=\"__main__\":   default value of __name__ is __main__ and acts as a entry point for a python program"
   ]
  },
  {
   "cell_type": "code",
   "execution_count": 41,
   "id": "50fd4fb6",
   "metadata": {},
   "outputs": [],
   "source": [
    "# if executing same file then value remains __main__ and if we try \n",
    "# to import the file and call the imported function from the another file\n",
    "# then the value of __main__ will be the module name from where that function is imported"
   ]
  },
  {
   "cell_type": "code",
   "execution_count": 42,
   "id": "5e7f2493",
   "metadata": {},
   "outputs": [
    {
     "name": "stdout",
     "output_type": "stream",
     "text": [
      "Enter No : 1\n",
      "Enter No : 1\n",
      "division is :  1.0\n"
     ]
    }
   ],
   "source": [
    "x = input(\"Enter No : \")\n",
    "y = input(\"Enter No : \")\n",
    "try: \n",
    "    z = int(x)/int(y)\n",
    "except Exception as e:\n",
    "    print(\"Exception occured :\", e)\n",
    "    z=None\n",
    "print(\"division is : \", z) # we can specition catch the exception like TypeError as e"
   ]
  },
  {
   "cell_type": "code",
   "execution_count": 43,
   "id": "416937c2",
   "metadata": {},
   "outputs": [
    {
     "name": "stdout",
     "output_type": "stream",
     "text": [
      "General usage: Transportation\n",
      " \n",
      "I am Car\n",
      "General usage: Transportation\n",
      "Specific Usage: Vacation with Family\n",
      " \n",
      "I am Motor Cycle\n",
      "General usage: Transportation\n",
      "Specific Usage: Racing\n"
     ]
    }
   ],
   "source": [
    "#inheritance\n",
    "class vehicle():\n",
    "    def general_usage(self):\n",
    "        print(\"General usage: Transportation\")\n",
    "\n",
    "class car(vehicle):\n",
    "    def __init__(self):\n",
    "        print(\"I am Car\")\n",
    "        self.wheels = 4\n",
    "        self.has_roof = \"Yes\"\n",
    "        \n",
    "    def specific_usage(self):\n",
    "        self.general_usage()\n",
    "        print(\"Specific Usage: Vacation with Family\")\n",
    "    \n",
    "class motorcycle(vehicle):\n",
    "    def __init__(self):\n",
    "        print(\"I am Motor Cycle\")\n",
    "        self.wheels = 2\n",
    "        self.has_roof = \"No\"\n",
    "    def specific_usage(self):\n",
    "        self.general_usage()\n",
    "        print(\"Specific Usage: Racing\")\n",
    "    \n",
    "v = vehicle()\n",
    "v.general_usage()\n",
    "print(\" \")\n",
    "c = car()\n",
    "#c.general_usage()\n",
    "c.specific_usage()\n",
    "\n",
    "print(\" \")\n",
    "m = motorcycle()\n",
    "#m.general_usage()\n",
    "m.specific_usage()"
   ]
  },
  {
   "cell_type": "code",
   "execution_count": 44,
   "id": "e4e72f0c",
   "metadata": {},
   "outputs": [
    {
     "data": {
      "text/plain": [
       "(True, True, False)"
      ]
     },
     "execution_count": 44,
     "metadata": {},
     "output_type": "execute_result"
    }
   ],
   "source": [
    "isinstance(c, car), isinstance(c, vehicle), isinstance(c, motorcycle)"
   ]
  },
  {
   "cell_type": "code",
   "execution_count": 45,
   "id": "f2c67c11",
   "metadata": {},
   "outputs": [
    {
     "name": "stdout",
     "output_type": "stream",
     "text": [
      "gardening\n",
      "cooking\n",
      "sports\n"
     ]
    }
   ],
   "source": [
    "# Multiple inheritance\n",
    "class Father():\n",
    "    def skills(self):\n",
    "        print('gardening')\n",
    "class Mother():\n",
    "    def skills(self):\n",
    "        print('cooking')\n",
    "class Child(Father, Mother):\n",
    "    def skills(self):\n",
    "        Father.skills(self)\n",
    "        Mother.skills(self)\n",
    "        print(\"sports\")\n",
    "c = Child()\n",
    "c.skills()"
   ]
  },
  {
   "cell_type": "code",
   "execution_count": 46,
   "id": "d78a061e",
   "metadata": {},
   "outputs": [
    {
     "name": "stdout",
     "output_type": "stream",
     "text": [
      "memory error\n"
     ]
    }
   ],
   "source": [
    "# Exception part #2\n",
    "try:\n",
    "    raise MemoryError(\"memory error\") # built in exception\n",
    "except MemoryError as e:\n",
    "    print(e)"
   ]
  },
  {
   "cell_type": "code",
   "execution_count": 47,
   "id": "283a99ee",
   "metadata": {},
   "outputs": [
    {
     "name": "stdout",
     "output_type": "stream",
     "text": [
      "User defined exception :  Car crash\n"
     ]
    }
   ],
   "source": [
    "class Accident(Exception):\n",
    "    def __init__(self, msg):\n",
    "        self.msg = msg\n",
    "    def print_exception(self):\n",
    "        print(\"User defined exception : \",self.msg)\n",
    "\n",
    "try:\n",
    "    raise Accident(\"Car crash\")\n",
    "except Accident as e:\n",
    "    e.print_exception()"
   ]
  },
  {
   "cell_type": "code",
   "execution_count": 48,
   "id": "71620f03",
   "metadata": {},
   "outputs": [
    {
     "name": "stdout",
     "output_type": "stream",
     "text": [
      "Dividing a number by zero\n",
      "Catching all the other expections here\n"
     ]
    }
   ],
   "source": [
    "def process():\n",
    "    try: \n",
    "        x =1/0\n",
    "        y = 1+'a'\n",
    "        ##f = open(\"data.txt\")\n",
    "    except ZeroDivisionError as e:\n",
    "        print(\"Dividing a number by zero\")\n",
    "    finally:\n",
    "        print(\"Catching all the other expections here\")\n",
    "process()\n",
    "        "
   ]
  },
  {
   "cell_type": "code",
   "execution_count": 49,
   "id": "e1382de5",
   "metadata": {},
   "outputs": [
    {
     "name": "stdout",
     "output_type": "stream",
     "text": [
      "1\n",
      "2\n",
      "3\n",
      "4\n"
     ]
    },
    {
     "data": {
      "text/plain": [
       "1"
      ]
     },
     "execution_count": 49,
     "metadata": {},
     "output_type": "execute_result"
    }
   ],
   "source": [
    "a = [1,2,3,4]\n",
    "for i in a:\n",
    "    print(i)\n",
    "itr = iter(a)\n",
    "next(itr)"
   ]
  },
  {
   "cell_type": "code",
   "execution_count": 50,
   "id": "d3f3d22b",
   "metadata": {},
   "outputs": [
    {
     "data": {
      "text/plain": [
       "2"
      ]
     },
     "execution_count": 50,
     "metadata": {},
     "output_type": "execute_result"
    }
   ],
   "source": [
    "next(itr)"
   ]
  },
  {
   "cell_type": "code",
   "execution_count": 51,
   "id": "ce156012",
   "metadata": {},
   "outputs": [
    {
     "data": {
      "text/plain": [
       "3"
      ]
     },
     "execution_count": 51,
     "metadata": {},
     "output_type": "execute_result"
    }
   ],
   "source": [
    "next(itr)"
   ]
  },
  {
   "cell_type": "code",
   "execution_count": 52,
   "id": "29bed5ea",
   "metadata": {},
   "outputs": [
    {
     "data": {
      "text/plain": [
       "4"
      ]
     },
     "execution_count": 52,
     "metadata": {},
     "output_type": "execute_result"
    }
   ],
   "source": [
    "itr = reversed(a)\n",
    "next(itr)"
   ]
  },
  {
   "cell_type": "code",
   "execution_count": 53,
   "id": "7e96de01",
   "metadata": {},
   "outputs": [
    {
     "data": {
      "text/plain": [
       "3"
      ]
     },
     "execution_count": 53,
     "metadata": {},
     "output_type": "execute_result"
    }
   ],
   "source": [
    "next(itr)"
   ]
  },
  {
   "cell_type": "code",
   "execution_count": 54,
   "id": "02fe6ae8",
   "metadata": {},
   "outputs": [
    {
     "data": {
      "text/plain": [
       "2"
      ]
     },
     "execution_count": 54,
     "metadata": {},
     "output_type": "execute_result"
    }
   ],
   "source": [
    "next(itr)"
   ]
  },
  {
   "cell_type": "code",
   "execution_count": 55,
   "id": "c7238a21",
   "metadata": {},
   "outputs": [],
   "source": [
    "# self iterator can be implemented by defining __iter__, __next__ and other relevant fucntions in the class"
   ]
  },
  {
   "cell_type": "code",
   "execution_count": 56,
   "id": "8da00b4a",
   "metadata": {},
   "outputs": [
    {
     "data": {
      "text/plain": [
       "<generator object remote_control_next at 0x000001ABCEBF00B0>"
      ]
     },
     "execution_count": 56,
     "metadata": {},
     "output_type": "execute_result"
    }
   ],
   "source": [
    "#Generators\n",
    "def remote_control_next():\n",
    "    yield 'Espn'\n",
    "    yield 'Star Sprots 1'\n",
    "    yield 'Star Sprots 2'\n",
    "\n",
    "itr = remote_control_next()\n",
    "itr"
   ]
  },
  {
   "cell_type": "code",
   "execution_count": 57,
   "id": "9a989c38",
   "metadata": {},
   "outputs": [
    {
     "data": {
      "text/plain": [
       "'Espn'"
      ]
     },
     "execution_count": 57,
     "metadata": {},
     "output_type": "execute_result"
    }
   ],
   "source": [
    "next(itr)"
   ]
  },
  {
   "cell_type": "code",
   "execution_count": 58,
   "id": "16abf151",
   "metadata": {},
   "outputs": [
    {
     "data": {
      "text/plain": [
       "'Star Sprots 1'"
      ]
     },
     "execution_count": 58,
     "metadata": {},
     "output_type": "execute_result"
    }
   ],
   "source": [
    "next(itr)"
   ]
  },
  {
   "cell_type": "code",
   "execution_count": 59,
   "id": "f98d7233",
   "metadata": {},
   "outputs": [
    {
     "name": "stdout",
     "output_type": "stream",
     "text": [
      "Espn\n",
      "Star Sprots 1\n",
      "Star Sprots 2\n"
     ]
    }
   ],
   "source": [
    "# loop works on genertors\n",
    "for c in remote_control_next():\n",
    "    print(c)"
   ]
  },
  {
   "cell_type": "code",
   "execution_count": 60,
   "id": "7b651a37",
   "metadata": {},
   "outputs": [
    {
     "name": "stdout",
     "output_type": "stream",
     "text": [
      "0\n",
      "1\n",
      "1\n",
      "2\n",
      "3\n",
      "5\n",
      "8\n",
      "13\n",
      "21\n",
      "34\n"
     ]
    }
   ],
   "source": [
    "def fibonacci():\n",
    "    a, b = 0,1\n",
    "    while True:\n",
    "        yield a\n",
    "        a, b = b, a+b\n",
    "        \n",
    "for i in fibonacci():\n",
    "    if(i > 50):\n",
    "        break\n",
    "    print(i)   "
   ]
  },
  {
   "cell_type": "code",
   "execution_count": 61,
   "id": "68be8bf9",
   "metadata": {},
   "outputs": [
    {
     "name": "stdout",
     "output_type": "stream",
     "text": [
      "[2, 4, 6]\n"
     ]
    }
   ],
   "source": [
    "# comprehension\n",
    "# list comprehension\n",
    "numbers = [1,2,3,4,5,6,7]\n",
    "even = []\n",
    "for i in numbers:\n",
    "    if i%2 == 0:\n",
    "        even.append(i)\n",
    "print(even)"
   ]
  },
  {
   "cell_type": "code",
   "execution_count": 62,
   "id": "127c8fcc",
   "metadata": {},
   "outputs": [
    {
     "data": {
      "text/plain": [
       "[2, 4, 6]"
      ]
     },
     "execution_count": 62,
     "metadata": {},
     "output_type": "execute_result"
    }
   ],
   "source": [
    "even = [i for i in numbers if i%2 == 0]\n",
    "even"
   ]
  },
  {
   "cell_type": "code",
   "execution_count": 63,
   "id": "763fd568",
   "metadata": {},
   "outputs": [
    {
     "data": {
      "text/plain": [
       "[1, 4, 9, 16, 25, 36, 49]"
      ]
     },
     "execution_count": 63,
     "metadata": {},
     "output_type": "execute_result"
    }
   ],
   "source": [
    "squares = [i*i for i in numbers]\n",
    "squares"
   ]
  },
  {
   "cell_type": "code",
   "execution_count": 64,
   "id": "53c4e38b",
   "metadata": {},
   "outputs": [
    {
     "data": {
      "text/plain": [
       "{1, 2, 3, 4, 5}"
      ]
     },
     "execution_count": 64,
     "metadata": {},
     "output_type": "execute_result"
    }
   ],
   "source": [
    "# set - unordered collection of unique items\n",
    "s = set([1,2,3,4,5,2,3])\n",
    "s"
   ]
  },
  {
   "cell_type": "code",
   "execution_count": 65,
   "id": "be2d22e2",
   "metadata": {},
   "outputs": [
    {
     "data": {
      "text/plain": [
       "{2, 4}"
      ]
     },
     "execution_count": 65,
     "metadata": {},
     "output_type": "execute_result"
    }
   ],
   "source": [
    "even = {i for i in s if i%2 == 0}\n",
    "even"
   ]
  },
  {
   "cell_type": "code",
   "execution_count": 66,
   "id": "45aea348",
   "metadata": {},
   "outputs": [
    {
     "data": {
      "text/plain": [
       "<zip at 0x1abcebebf80>"
      ]
     },
     "execution_count": 66,
     "metadata": {},
     "output_type": "execute_result"
    }
   ],
   "source": [
    "cities = [\"Delhi\", \"Toronto\", \"Dubai\"]\n",
    "countries = [\"India\", \"Canada\", \"UAE\"]\n",
    "z = zip(cities,countries)\n",
    "z"
   ]
  },
  {
   "cell_type": "code",
   "execution_count": 67,
   "id": "af210c6a",
   "metadata": {},
   "outputs": [
    {
     "name": "stdout",
     "output_type": "stream",
     "text": [
      "('Delhi', 'India')\n",
      "('Toronto', 'Canada')\n",
      "('Dubai', 'UAE')\n"
     ]
    }
   ],
   "source": [
    "for a in z:\n",
    "    print(a)"
   ]
  },
  {
   "cell_type": "code",
   "execution_count": 68,
   "id": "e9d106bf",
   "metadata": {},
   "outputs": [
    {
     "data": {
      "text/plain": [
       "{'Delhi': 'India', 'Toronto': 'Canada', 'Dubai': 'UAE'}"
      ]
     },
     "execution_count": 68,
     "metadata": {},
     "output_type": "execute_result"
    }
   ],
   "source": [
    "d ={city:country for city, country in zip(cities,countries)}\n",
    "d"
   ]
  },
  {
   "cell_type": "code",
   "execution_count": 69,
   "id": "b827082e",
   "metadata": {},
   "outputs": [
    {
     "data": {
      "text/plain": [
       "{'Apple', 'Banana'}"
      ]
     },
     "execution_count": 69,
     "metadata": {},
     "output_type": "execute_result"
    }
   ],
   "source": [
    "# Sets and Frozen Sets\n",
    "basket ={'Apple', \"Banana\", 'Apple'} #set\n",
    "basket"
   ]
  },
  {
   "cell_type": "code",
   "execution_count": 70,
   "id": "ee52f47d",
   "metadata": {},
   "outputs": [
    {
     "data": {
      "text/plain": [
       "set"
      ]
     },
     "execution_count": 70,
     "metadata": {},
     "output_type": "execute_result"
    }
   ],
   "source": [
    "type(basket)"
   ]
  },
  {
   "cell_type": "code",
   "execution_count": 71,
   "id": "fc5d7852",
   "metadata": {},
   "outputs": [
    {
     "data": {
      "text/plain": [
       "(set, {1, 2})"
      ]
     },
     "execution_count": 71,
     "metadata": {},
     "output_type": "execute_result"
    }
   ],
   "source": [
    "a = set() # declaring by set class\n",
    "a.add(1)\n",
    "a.add(2)\n",
    "type(a), a"
   ]
  },
  {
   "cell_type": "code",
   "execution_count": 72,
   "id": "68d35814",
   "metadata": {},
   "outputs": [
    {
     "data": {
      "text/plain": [
       "dict"
      ]
     },
     "execution_count": 72,
     "metadata": {},
     "output_type": "execute_result"
    }
   ],
   "source": [
    "x={} # By default it declares it a dict\n",
    "type(x)"
   ]
  },
  {
   "cell_type": "code",
   "execution_count": 73,
   "id": "d61e594a",
   "metadata": {},
   "outputs": [
    {
     "data": {
      "text/plain": [
       "{1, 2, 3, 4, 5, 6, 7}"
      ]
     },
     "execution_count": 73,
     "metadata": {},
     "output_type": "execute_result"
    }
   ],
   "source": [
    "numbers = [1,2,3,4,5,3,3,4,2,1,3,5,4,6,3,5,6,3,4,2,3,1]\n",
    "unique_numbers = set(numbers)\n",
    "unique_numbers.add(7)\n",
    "unique_numbers"
   ]
  },
  {
   "cell_type": "code",
   "execution_count": 74,
   "id": "98346a50",
   "metadata": {},
   "outputs": [
    {
     "data": {
      "text/plain": [
       "frozenset({1, 2, 3, 4, 5, 6})"
      ]
     },
     "execution_count": 74,
     "metadata": {},
     "output_type": "execute_result"
    }
   ],
   "source": [
    "fs = frozenset(numbers)\n",
    "fs"
   ]
  },
  {
   "cell_type": "code",
   "execution_count": 75,
   "id": "44bdb659",
   "metadata": {},
   "outputs": [],
   "source": [
    "# fs.add(7)  addition in frozen set is not allowed"
   ]
  },
  {
   "cell_type": "code",
   "execution_count": 76,
   "id": "30a64d06",
   "metadata": {},
   "outputs": [
    {
     "data": {
      "text/plain": [
       "{'1', '2', 'a', 'b', 'c'}"
      ]
     },
     "execution_count": 76,
     "metadata": {},
     "output_type": "execute_result"
    }
   ],
   "source": [
    "x = {\"a\", \"b\", \"c\"}\n",
    "y = {\"1\", \"2\", \"c\"}\n",
    "x|y # union of sets"
   ]
  },
  {
   "cell_type": "code",
   "execution_count": 77,
   "id": "de419bac",
   "metadata": {},
   "outputs": [
    {
     "data": {
      "text/plain": [
       "{'c'}"
      ]
     },
     "execution_count": 77,
     "metadata": {},
     "output_type": "execute_result"
    }
   ],
   "source": [
    "x&y #intersection"
   ]
  },
  {
   "cell_type": "code",
   "execution_count": 78,
   "id": "64ba6f7f",
   "metadata": {},
   "outputs": [
    {
     "data": {
      "text/plain": [
       "{'a', 'b'}"
      ]
     },
     "execution_count": 78,
     "metadata": {},
     "output_type": "execute_result"
    }
   ],
   "source": [
    "x-y"
   ]
  },
  {
   "cell_type": "code",
   "execution_count": 79,
   "id": "511d0abf",
   "metadata": {},
   "outputs": [
    {
     "data": {
      "text/plain": [
       "False"
      ]
     },
     "execution_count": 79,
     "metadata": {},
     "output_type": "execute_result"
    }
   ],
   "source": [
    "x<y # is X is subset of Y"
   ]
  },
  {
   "cell_type": "code",
   "execution_count": 80,
   "id": "868d78bd",
   "metadata": {},
   "outputs": [
    {
     "name": "stdout",
     "output_type": "stream",
     "text": [
      "calc_squares Took 10.259389877319336 ms\n",
      "calc_cubes Took 13.113975524902344 ms\n"
     ]
    }
   ],
   "source": [
    "# Decorators\n",
    "# functions in python are first class objects which means it can be passed as a argument to another function like a variable\n",
    "# And it can be returned as return value from a function\n",
    "import time\n",
    "\n",
    "# creating a wrapper for the time calculation of a function\n",
    "def time_it(func): \n",
    "    def wrapper(*args, **kwargs):\n",
    "        start = time.time()\n",
    "        result = func(*args, **kwargs)\n",
    "        end = time.time()\n",
    "        print(func.__name__ + ' Took ' + str((end-start)*1000) +\" ms\")\n",
    "        return result\n",
    "    return wrapper\n",
    "  \n",
    "@time_it # decorated \n",
    "def calc_squares(numbers):\n",
    "    #start = time.time()\n",
    "    result = []\n",
    "    for i in numbers:\n",
    "        result.append(i*i)    \n",
    "    #end = time.time()\n",
    "    #print(\"Calc Square took :\" + str((end-start)*1000) +\" ms\")\n",
    "    return result\n",
    "\n",
    "@time_it # decorated \n",
    "def calc_cubes(numbers):\n",
    "    #start = time.time()\n",
    "    result = []\n",
    "    for i in numbers:\n",
    "        result.append(i*i*i)\n",
    "    #end = time.time()\n",
    "    #print(\"Calc Cube took :\" + str((end-start)*1000) +\" ms\")\n",
    "    return result\n",
    "\n",
    "array = range(0,100000)\n",
    "squares = calc_squares(array)\n",
    "cubes = calc_cubes(array)"
   ]
  },
  {
   "cell_type": "code",
   "execution_count": 81,
   "id": "e4b73c9e",
   "metadata": {},
   "outputs": [
    {
     "name": "stdout",
     "output_type": "stream",
     "text": [
      "Square : 1\n",
      "Cube : 1\n",
      "Cube : 8\n",
      "Square : 4\n",
      "Cube :Square : 9\n",
      " 27\n",
      "Square : 16\n",
      "Cube : 64\n",
      "Cube :Square : 25\n",
      " 125\n",
      "Done in : 1.038557529449463 ms\n"
     ]
    }
   ],
   "source": [
    "#Multithreading\n",
    "import threading\n",
    "\n",
    "def calc_squares(numbers):\n",
    "    for i in numbers:\n",
    "        time.sleep(0.2)\n",
    "        print(\"Square :\", (i*i))    \n",
    "    #return result\n",
    "\n",
    "def calc_cubes(numbers):\n",
    "    for i in numbers:\n",
    "        time.sleep(0.2)\n",
    "        print(\"Cube :\", (i*i*i))\n",
    "    #return result\n",
    "arr = [1,2,3,4,5]\n",
    "t = time.time()\n",
    "t1 = threading.Thread(target=calc_squares, args=(arr,))\n",
    "t2 = threading.Thread(target=calc_cubes, args=(arr,))\n",
    "\n",
    "t1.start()\n",
    "t2.start()\n",
    "\n",
    "t1.join() # Join function says that wait here untill the thread execution is done\n",
    "t2.join()\n",
    "\n",
    "#calc_squares(arr)\n",
    "#calc_cubes(arr)\n",
    "\n",
    "print(\"Done in :\", str(time.time()-t) +\" ms\")"
   ]
  },
  {
   "cell_type": "code",
   "execution_count": 98,
   "id": "5e78a7c3",
   "metadata": {},
   "outputs": [
    {
     "name": "stdout",
     "output_type": "stream",
     "text": [
      "Result : []\n"
     ]
    }
   ],
   "source": [
    "#MultiProcessing\n",
    "import time\n",
    "import multiprocessing\n",
    "\n",
    "def calc_squares(numbers):\n",
    "    #time.sleep(5) # to see the processes in the Task Manager\n",
    "    for i in numbers:\n",
    "        print(\"Square :\", (i*i))    \n",
    "\n",
    "cube_result =[]        \n",
    "def calc_cubes(numbers):\n",
    "    global cube_result\n",
    "    for i in numbers:\n",
    "        cube_result.append(i*i*i)\n",
    "        print(\"Cube :\", (i*i*i))\n",
    "        print('with in the process :', str(cube_result)) # here we get the values but somehow it is not printed\n",
    "\n",
    "if __name__ == '__main__':\n",
    "    arr = [1,2,3,4]\n",
    "    p1 = multiprocessing.Process(target=calc_squares, args=(arr,))\n",
    "    p2 = multiprocessing.Process(target=calc_cubes, args=(arr,))\n",
    "    \n",
    "    p1.start()\n",
    "    p2.start()\n",
    "    \n",
    "    p1.join()\n",
    "    p2.join()\n",
    "    print('Result :', cube_result) # Cube result should have the results but it didn't \n",
    "                                   # because data is not shared among the different processes. Every Process has its own\n",
    "                                   # address space, we need to create IPC for that to share it among the two processes. \n",
    "    ##print(\"Done !\")\n",
    "    "
   ]
  },
  {
   "cell_type": "code",
   "execution_count": null,
   "id": "17d99494",
   "metadata": {},
   "outputs": [],
   "source": [
    "# Shari"
   ]
  }
 ],
 "metadata": {
  "kernelspec": {
   "display_name": "Python 3 (ipykernel)",
   "language": "python",
   "name": "python3"
  },
  "language_info": {
   "codemirror_mode": {
    "name": "ipython",
    "version": 3
   },
   "file_extension": ".py",
   "mimetype": "text/x-python",
   "name": "python",
   "nbconvert_exporter": "python",
   "pygments_lexer": "ipython3",
   "version": "3.10.9"
  }
 },
 "nbformat": 4,
 "nbformat_minor": 5
}
