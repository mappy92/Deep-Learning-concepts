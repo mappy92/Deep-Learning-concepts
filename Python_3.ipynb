{
 "cells": [
  {
   "cell_type": "code",
   "execution_count": 1,
   "id": "a1bec55d",
   "metadata": {},
   "outputs": [
    {
     "data": {
      "text/plain": [
       "'c'"
      ]
     },
     "execution_count": 1,
     "metadata": {},
     "output_type": "execute_result"
    }
   ],
   "source": [
    "text = 'ice cream'\n",
    "text[1]"
   ]
  },
  {
   "cell_type": "code",
   "execution_count": 2,
   "id": "93982f18",
   "metadata": {},
   "outputs": [],
   "source": [
    "#text[3] = 'F' # Strings are immutable"
   ]
  },
  {
   "cell_type": "code",
   "execution_count": 3,
   "id": "5eb5c865",
   "metadata": {},
   "outputs": [
    {
     "data": {
      "text/plain": [
       "'ice'"
      ]
     },
     "execution_count": 3,
     "metadata": {},
     "output_type": "execute_result"
    }
   ],
   "source": [
    "text[0:3] # first index is included and second index is excluded"
   ]
  },
  {
   "cell_type": "code",
   "execution_count": 4,
   "id": "8883354c",
   "metadata": {},
   "outputs": [
    {
     "data": {
      "text/plain": [
       "'cream'"
      ]
     },
     "execution_count": 4,
     "metadata": {},
     "output_type": "execute_result"
    }
   ],
   "source": [
    "text[4:] # goes till end"
   ]
  },
  {
   "cell_type": "code",
   "execution_count": 5,
   "id": "916852d8",
   "metadata": {},
   "outputs": [
    {
     "data": {
      "text/plain": [
       "'ice c'"
      ]
     },
     "execution_count": 5,
     "metadata": {},
     "output_type": "execute_result"
    }
   ],
   "source": [
    "text[:5] # starts from beginning"
   ]
  },
  {
   "cell_type": "code",
   "execution_count": 6,
   "id": "92d5a977",
   "metadata": {},
   "outputs": [
    {
     "name": "stdout",
     "output_type": "stream",
     "text": [
      "29 haynes Avenue\n",
      "St Catharines\n",
      "Ontario, L2R 3Z5\n"
     ]
    },
    {
     "data": {
      "text/plain": [
       "(None, '29 haynes Avenue\\nSt Catharines\\nOntario, L2R 3Z5')"
      ]
     },
     "execution_count": 6,
     "metadata": {},
     "output_type": "execute_result"
    }
   ],
   "source": [
    "address = '''29 haynes Avenue\n",
    "St Catharines\n",
    "Ontario, L2R 3Z5'''\n",
    "print(address), address"
   ]
  },
  {
   "cell_type": "code",
   "execution_count": 7,
   "id": "505c0d47",
   "metadata": {},
   "outputs": [
    {
     "data": {
      "text/plain": [
       "'Hello 0.07'"
      ]
     },
     "execution_count": 7,
     "metadata": {},
     "output_type": "execute_result"
    }
   ],
   "source": [
    "s =\"Hello \"\n",
    "n = 0.07\n",
    "s+str(n)"
   ]
  },
  {
   "cell_type": "code",
   "execution_count": 8,
   "id": "33fc5099",
   "metadata": {},
   "outputs": [
    {
     "data": {
      "text/plain": [
       "'v'"
      ]
     },
     "execution_count": 8,
     "metadata": {},
     "output_type": "execute_result"
    }
   ],
   "source": [
    "# Lists\n",
    "items = ['b','p','v','f']\n",
    "items[2]"
   ]
  },
  {
   "cell_type": "code",
   "execution_count": 9,
   "id": "21c53c85",
   "metadata": {},
   "outputs": [
    {
     "data": {
      "text/plain": [
       "('f', 'v')"
      ]
     },
     "execution_count": 9,
     "metadata": {},
     "output_type": "execute_result"
    }
   ],
   "source": [
    "items[-1], items[-2] # -1 means last element"
   ]
  },
  {
   "cell_type": "code",
   "execution_count": 10,
   "id": "b06edb23",
   "metadata": {},
   "outputs": [
    {
     "data": {
      "text/plain": [
       "['b', 'p', 'v', 'f', 'c']"
      ]
     },
     "execution_count": 10,
     "metadata": {},
     "output_type": "execute_result"
    }
   ],
   "source": [
    "items.append('c')\n",
    "items"
   ]
  },
  {
   "cell_type": "code",
   "execution_count": 11,
   "id": "8256b5e9",
   "metadata": {},
   "outputs": [
    {
     "data": {
      "text/plain": [
       "['b', 'd', 'p', 'v', 'f', 'c']"
      ]
     },
     "execution_count": 11,
     "metadata": {},
     "output_type": "execute_result"
    }
   ],
   "source": [
    "items.insert(1, 'd')\n",
    "items"
   ]
  },
  {
   "cell_type": "code",
   "execution_count": 12,
   "id": "4f2d5fcc",
   "metadata": {},
   "outputs": [
    {
     "data": {
      "text/plain": [
       "['a', 'b', 'c', 'd']"
      ]
     },
     "execution_count": 12,
     "metadata": {},
     "output_type": "execute_result"
    }
   ],
   "source": [
    "food =['a','b']\n",
    "bathroom = ['c', 'd']\n",
    "food+bathroom # caoncatenation"
   ]
  },
  {
   "cell_type": "code",
   "execution_count": 13,
   "id": "22cc1e1b",
   "metadata": {},
   "outputs": [
    {
     "data": {
      "text/plain": [
       "6"
      ]
     },
     "execution_count": 13,
     "metadata": {},
     "output_type": "execute_result"
    }
   ],
   "source": [
    "len(items)"
   ]
  },
  {
   "cell_type": "code",
   "execution_count": 14,
   "id": "88617be1",
   "metadata": {},
   "outputs": [
    {
     "data": {
      "text/plain": [
       "True"
      ]
     },
     "execution_count": 14,
     "metadata": {},
     "output_type": "execute_result"
    }
   ],
   "source": [
    "'b' in items"
   ]
  },
  {
   "cell_type": "code",
   "execution_count": 15,
   "id": "6a666dc8",
   "metadata": {},
   "outputs": [
    {
     "name": "stdout",
     "output_type": "stream",
     "text": [
      "1\n",
      "9\n",
      "25\n"
     ]
    }
   ],
   "source": [
    "for i in range(1,6):\n",
    "    if(i%2==0):\n",
    "        continue\n",
    "    print(i*i)"
   ]
  },
  {
   "cell_type": "code",
   "execution_count": 16,
   "id": "c995d45b",
   "metadata": {},
   "outputs": [
    {
     "data": {
      "text/plain": [
       "6"
      ]
     },
     "execution_count": 16,
     "metadata": {},
     "output_type": "execute_result"
    }
   ],
   "source": [
    "#functions\n",
    "\"\"\" Sum function which takes two arguments\n",
    "And returns the final value\n",
    "\"\"\" # documentation strings\n",
    "def sum(a,b=1): # if b argument is not passed then its default value is given\n",
    "    return a+b\n",
    "sum(5)"
   ]
  },
  {
   "cell_type": "code",
   "execution_count": 17,
   "id": "663eb60f",
   "metadata": {},
   "outputs": [
    {
     "data": {
      "text/plain": [
       "14"
      ]
     },
     "execution_count": 17,
     "metadata": {},
     "output_type": "execute_result"
    }
   ],
   "source": [
    "sum(5,9)"
   ]
  },
  {
   "cell_type": "code",
   "execution_count": 18,
   "id": "c9057900",
   "metadata": {},
   "outputs": [
    {
     "data": {
      "text/plain": [
       "'123456'"
      ]
     },
     "execution_count": 18,
     "metadata": {},
     "output_type": "execute_result"
    }
   ],
   "source": [
    "# Dictionaries (Associate arrays, Hash Tables & Maps) and Tuples\n",
    "d={\n",
    "    \"John\" : \"123456\",\n",
    "    \"Rob\": \"435678\",\n",
    "    \"Jill\": \"435453\"\n",
    "  }\n",
    "d[\"John\"]"
   ]
  },
  {
   "cell_type": "code",
   "execution_count": 19,
   "id": "c019137a",
   "metadata": {},
   "outputs": [
    {
     "data": {
      "text/plain": [
       "{'John': '123456', 'Rob': '435678', 'Jill': '435453', 'Sam': '783425'}"
      ]
     },
     "execution_count": 19,
     "metadata": {},
     "output_type": "execute_result"
    }
   ],
   "source": [
    "d[\"Sam\"] = '783425'\n",
    "d # Order doesn't matter"
   ]
  },
  {
   "cell_type": "code",
   "execution_count": 20,
   "id": "edb9808b",
   "metadata": {},
   "outputs": [
    {
     "name": "stdout",
     "output_type": "stream",
     "text": [
      "key:  John Value:  123456\n",
      "key:  Rob Value:  435678\n",
      "key:  Jill Value:  435453\n",
      "key:  Sam Value:  783425\n"
     ]
    }
   ],
   "source": [
    "#Iterate each item\n",
    "for key in d:\n",
    "    print(\"key: \", key, \"Value: \", d[key])"
   ]
  },
  {
   "cell_type": "code",
   "execution_count": 21,
   "id": "aa437850",
   "metadata": {},
   "outputs": [
    {
     "name": "stdout",
     "output_type": "stream",
     "text": [
      "key:  John Value:  123456\n",
      "key:  Rob Value:  435678\n",
      "key:  Jill Value:  435453\n",
      "key:  Sam Value:  783425\n"
     ]
    }
   ],
   "source": [
    "for k,v in d.items():\n",
    "    print(\"key: \", k, \"Value: \", v)"
   ]
  },
  {
   "cell_type": "code",
   "execution_count": 22,
   "id": "847a78a5",
   "metadata": {},
   "outputs": [
    {
     "data": {
      "text/plain": [
       "True"
      ]
     },
     "execution_count": 22,
     "metadata": {},
     "output_type": "execute_result"
    }
   ],
   "source": [
    "\"John\" in d"
   ]
  },
  {
   "cell_type": "code",
   "execution_count": 23,
   "id": "3919d0ff",
   "metadata": {},
   "outputs": [
    {
     "data": {
      "text/plain": [
       "{}"
      ]
     },
     "execution_count": 23,
     "metadata": {},
     "output_type": "execute_result"
    }
   ],
   "source": [
    "d.clear() # Wipe out all entries\n",
    "d"
   ]
  },
  {
   "cell_type": "code",
   "execution_count": 24,
   "id": "60d45546",
   "metadata": {},
   "outputs": [
    {
     "data": {
      "text/plain": [
       "(5, 9)"
      ]
     },
     "execution_count": 24,
     "metadata": {},
     "output_type": "execute_result"
    }
   ],
   "source": [
    "# Tuples - List of values are grouped together\n",
    "point = (5,9)\n",
    "point[0], point[1] # in tuple all the values has different meaning like X,Y - heterogeneous"
   ]
  },
  {
   "cell_type": "code",
   "execution_count": 25,
   "id": "8af75546",
   "metadata": {},
   "outputs": [],
   "source": [
    "#point[0] = 6 # Tuples are immutable"
   ]
  },
  {
   "cell_type": "code",
   "execution_count": 26,
   "id": "97f32a53",
   "metadata": {},
   "outputs": [
    {
     "data": {
      "text/plain": [
       "(4.0, 32.0, 32)"
      ]
     },
     "execution_count": 26,
     "metadata": {},
     "output_type": "execute_result"
    }
   ],
   "source": [
    "# Modules\n",
    "import math\n",
    "math.sqrt(16), math.pow(2, 5), 2**5"
   ]
  },
  {
   "cell_type": "code",
   "execution_count": 27,
   "id": "415de57a",
   "metadata": {},
   "outputs": [],
   "source": [
    "# dir(math) gives me the information about math module"
   ]
  },
  {
   "cell_type": "code",
   "execution_count": 28,
   "id": "cef258ba",
   "metadata": {},
   "outputs": [
    {
     "data": {
      "text/plain": [
       "3.141592653589793"
      ]
     },
     "execution_count": 28,
     "metadata": {},
     "output_type": "execute_result"
    }
   ],
   "source": [
    "math.pi"
   ]
  },
  {
   "cell_type": "code",
   "execution_count": 29,
   "id": "7870735b",
   "metadata": {},
   "outputs": [
    {
     "name": "stdout",
     "output_type": "stream",
     "text": [
      "    August 2024\n",
      "Mo Tu We Th Fr Sa Su\n",
      "          1  2  3  4\n",
      " 5  6  7  8  9 10 11\n",
      "12 13 14 15 16 17 18\n",
      "19 20 21 22 23 24 25\n",
      "26 27 28 29 30 31\n",
      "\n"
     ]
    }
   ],
   "source": [
    "import calendar\n",
    "cal = calendar.month(2024,8)\n",
    "print(cal)"
   ]
  },
  {
   "cell_type": "code",
   "execution_count": 30,
   "id": "ddf43206",
   "metadata": {},
   "outputs": [
    {
     "data": {
      "text/plain": [
       "True"
      ]
     },
     "execution_count": 30,
     "metadata": {},
     "output_type": "execute_result"
    }
   ],
   "source": [
    "calendar.isleap(2024)"
   ]
  },
  {
   "cell_type": "code",
   "execution_count": 31,
   "id": "9df045f8",
   "metadata": {},
   "outputs": [],
   "source": [
    "import sys\n",
    "#sys.path.append(\"Path of the code or py files\")"
   ]
  },
  {
   "cell_type": "code",
   "execution_count": 32,
   "id": "020764aa",
   "metadata": {},
   "outputs": [
    {
     "data": {
      "text/plain": [
       "'{\"bob\": {\"name\": \"bob\", \"address\": \"1 brown street ON\", \"phone\": \"9090909090\"}, \"tom\": {\"name\": \"tom\", \"address\": \"1 green street ON\", \"phone\": \"8989898989\"}}'"
      ]
     },
     "execution_count": 32,
     "metadata": {},
     "output_type": "execute_result"
    }
   ],
   "source": [
    "book = {}\n",
    "book['bob'] = {\n",
    "    'name':'bob',\n",
    "    'address':'1 brown street ON',\n",
    "    'phone':'9090909090'\n",
    "}\n",
    "book['tom'] = {\n",
    "    'name':'tom',\n",
    "    'address':'1 green street ON',\n",
    "    'phone':'8989898989'\n",
    "}\n",
    "import json\n",
    "s = json.dumps(book) # dumping the dictionary object by converting into strings\n",
    "s"
   ]
  },
  {
   "cell_type": "code",
   "execution_count": 33,
   "id": "d95fd369",
   "metadata": {},
   "outputs": [],
   "source": [
    "with open('C://Mappy//book.txt', 'w') as f:\n",
    "    f.write(s)"
   ]
  },
  {
   "cell_type": "code",
   "execution_count": 34,
   "id": "ca2377e2",
   "metadata": {},
   "outputs": [
    {
     "data": {
      "text/plain": [
       "{'bob': {'name': 'bob', 'address': '1 brown street ON', 'phone': '9090909090'},\n",
       " 'tom': {'name': 'tom', 'address': '1 green street ON', 'phone': '8989898989'}}"
      ]
     },
     "execution_count": 34,
     "metadata": {},
     "output_type": "execute_result"
    }
   ],
   "source": [
    "json.loads(s) # this is a python dictionary that is coverted from a string"
   ]
  },
  {
   "cell_type": "code",
   "execution_count": 35,
   "id": "642dc5b5",
   "metadata": {},
   "outputs": [
    {
     "data": {
      "text/plain": [
       "(dict, str)"
      ]
     },
     "execution_count": 35,
     "metadata": {},
     "output_type": "execute_result"
    }
   ],
   "source": [
    "type(book), type(s)"
   ]
  },
  {
   "cell_type": "code",
   "execution_count": 36,
   "id": "f6f01e6d",
   "metadata": {},
   "outputs": [
    {
     "data": {
      "text/plain": [
       "'1 brown street ON'"
      ]
     },
     "execution_count": 36,
     "metadata": {},
     "output_type": "execute_result"
    }
   ],
   "source": [
    "book['bob']['address']"
   ]
  },
  {
   "cell_type": "code",
   "execution_count": 45,
   "id": "4c85b770",
   "metadata": {},
   "outputs": [],
   "source": [
    "f=open('C:\\\\Mappy\\\\book.txt', 'a') # w - overwrite the file a- append the content\n",
    "f.write('\\nPython is used in AM/AL')\n",
    "f.close()"
   ]
  },
  {
   "cell_type": "code",
   "execution_count": 47,
   "id": "3483fe72",
   "metadata": {},
   "outputs": [
    {
     "name": "stdout",
     "output_type": "stream",
     "text": [
      "{\"bob\": {\"name\": \"bob\", \"address\": \"1 brown street ON\", \"phone\": \"9090909090\"}, \"tom\": {\"name\": \"tom\", \"address\": \"1 green street ON\", \"phone\": \"8989898989\"}}Python is used in AM/AL\n",
      "Python is used in AM/AL\n",
      "Python is used in AM/AL\n"
     ]
    }
   ],
   "source": [
    "f=open('C:\\\\Mappy\\\\book.txt', 'r')\n",
    "print(f.read())"
   ]
  },
  {
   "cell_type": "code",
   "execution_count": 54,
   "id": "497f05a4",
   "metadata": {},
   "outputs": [
    {
     "name": "stdout",
     "output_type": "stream",
     "text": [
      "24\n",
      "5\n",
      "5\n"
     ]
    }
   ],
   "source": [
    "f=open('C:\\\\Mappy\\\\book.txt', 'r') # r+ for both Write and read and w+ both for read write and create file\n",
    "                                   #if doesn't exist and overwrite if exists\n",
    "f_out=open('C:\\\\Mappy\\\\out.txt', 'w')\n",
    "for line in f:\n",
    "    tokens = line.split(' ')\n",
    "    f_out.write(\" wordcount : \"+ str(len(tokens))+' '+ line)\n",
    "    print(len(tokens))\n",
    "f.close()\n",
    "f_out.close()\n",
    "#With statement we don't have to close the file explicitly and can be checked with f.closed flag "
   ]
  },
  {
   "cell_type": "code",
   "execution_count": 56,
   "id": "64ffcbb0",
   "metadata": {},
   "outputs": [],
   "source": [
    "#if __name__=\"__main__\":   default value of __name__ is __main__ and acts as a entry point for a python program"
   ]
  },
  {
   "cell_type": "code",
   "execution_count": 57,
   "id": "e1d32b56",
   "metadata": {},
   "outputs": [],
   "source": [
    "# if executing same file then value remains __main__ and if we try \n",
    "# to import the file and call the imported function from the another file\n",
    "# then the value of __main__ will be the module name from where that function is imported"
   ]
  },
  {
   "cell_type": "code",
   "execution_count": 64,
   "id": "dfd727b8",
   "metadata": {},
   "outputs": [
    {
     "name": "stdout",
     "output_type": "stream",
     "text": [
      "Enter No : 2\n",
      "Enter No : 0\n",
      "Exception occured : division by zero\n",
      "division is :  None\n"
     ]
    }
   ],
   "source": [
    "x = input(\"Enter No : \")\n",
    "y = input(\"Enter No : \")\n",
    "try: \n",
    "    z = int(x)/int(y)\n",
    "except Exception as e:\n",
    "    print(\"Exception occured :\", e)\n",
    "    z=None\n",
    "print(\"division is : \", z) # we can specition catch the exception like TypeError as e"
   ]
  },
  {
   "cell_type": "code",
   "execution_count": 75,
   "id": "7921b1b2",
   "metadata": {},
   "outputs": [
    {
     "name": "stdout",
     "output_type": "stream",
     "text": [
      "General usage: Transportation\n",
      " \n",
      "I am Car\n",
      "General usage: Transportation\n",
      "Specific Usage: Vacation with Family\n",
      " \n",
      "I am Motor Cycle\n",
      "General usage: Transportation\n",
      "Specific Usage: Racing\n"
     ]
    }
   ],
   "source": [
    "#inheritance\n",
    "class vehicle():\n",
    "    def general_usage(self):\n",
    "        print(\"General usage: Transportation\")\n",
    "\n",
    "class car(vehicle):\n",
    "    def __init__(self):\n",
    "        print(\"I am Car\")\n",
    "        self.wheels = 4\n",
    "        self.has_roof = \"Yes\"\n",
    "        \n",
    "    def specific_usage(self):\n",
    "        self.general_usage()\n",
    "        print(\"Specific Usage: Vacation with Family\")\n",
    "    \n",
    "class motorcycle(vehicle):\n",
    "    def __init__(self):\n",
    "        print(\"I am Motor Cycle\")\n",
    "        self.wheels = 2\n",
    "        self.has_roof = \"No\"\n",
    "    def specific_usage(self):\n",
    "        self.general_usage()\n",
    "        print(\"Specific Usage: Racing\")\n",
    "    \n",
    "v = vehicle()\n",
    "v.general_usage()\n",
    "print(\" \")\n",
    "c = car()\n",
    "#c.general_usage()\n",
    "c.specific_usage()\n",
    "\n",
    "print(\" \")\n",
    "m = motorcycle()\n",
    "#m.general_usage()\n",
    "m.specific_usage()"
   ]
  },
  {
   "cell_type": "code",
   "execution_count": 78,
   "id": "43e7c12b",
   "metadata": {},
   "outputs": [
    {
     "data": {
      "text/plain": [
       "(True, True, False)"
      ]
     },
     "execution_count": 78,
     "metadata": {},
     "output_type": "execute_result"
    }
   ],
   "source": [
    "isinstance(c, car), isinstance(c, vehicle), isinstance(c, motorcycle)"
   ]
  },
  {
   "cell_type": "code",
   "execution_count": 80,
   "id": "903f3d93",
   "metadata": {},
   "outputs": [
    {
     "name": "stdout",
     "output_type": "stream",
     "text": [
      "gardening\n",
      "cooking\n",
      "sports\n"
     ]
    }
   ],
   "source": [
    "# Multiple inheritance\n",
    "class Father():\n",
    "    def skills(self):\n",
    "        print('gardening')\n",
    "class Mother():\n",
    "    def skills(self):\n",
    "        print('cooking')\n",
    "class Child(Father, Mother):\n",
    "    def skills(self):\n",
    "        Father.skills(self)\n",
    "        Mother.skills(self)\n",
    "        print(\"sports\")\n",
    "c = Child()\n",
    "c.skills()"
   ]
  },
  {
   "cell_type": "code",
   "execution_count": 82,
   "id": "4827619c",
   "metadata": {},
   "outputs": [
    {
     "name": "stdout",
     "output_type": "stream",
     "text": [
      "memory error\n"
     ]
    }
   ],
   "source": [
    "# Exception part #2\n",
    "try:\n",
    "    raise MemoryError(\"memory error\") # built in exception\n",
    "except MemoryError as e:\n",
    "    print(e)"
   ]
  },
  {
   "cell_type": "code",
   "execution_count": null,
   "id": "c2047d49",
   "metadata": {},
   "outputs": [],
   "source": []
  }
 ],
 "metadata": {
  "kernelspec": {
   "display_name": "Python 3 (ipykernel)",
   "language": "python",
   "name": "python3"
  },
  "language_info": {
   "codemirror_mode": {
    "name": "ipython",
    "version": 3
   },
   "file_extension": ".py",
   "mimetype": "text/x-python",
   "name": "python",
   "nbconvert_exporter": "python",
   "pygments_lexer": "ipython3",
   "version": "3.10.9"
  }
 },
 "nbformat": 4,
 "nbformat_minor": 5
}
