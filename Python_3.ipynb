{
 "cells": [
  {
   "cell_type": "code",
   "execution_count": 1,
   "id": "d4fdf096",
   "metadata": {},
   "outputs": [
    {
     "data": {
      "text/plain": [
       "'c'"
      ]
     },
     "execution_count": 1,
     "metadata": {},
     "output_type": "execute_result"
    }
   ],
   "source": [
    "text = 'ice cream'\n",
    "text[1]"
   ]
  },
  {
   "cell_type": "code",
   "execution_count": 2,
   "id": "6acac73c",
   "metadata": {},
   "outputs": [],
   "source": [
    "text[3] = 'F' # Strings are immutable"
   ]
  },
  {
   "cell_type": "code",
   "execution_count": 3,
   "id": "4de60006",
   "metadata": {},
   "outputs": [
    {
     "data": {
      "text/plain": [
       "'ice'"
      ]
     },
     "execution_count": 3,
     "metadata": {},
     "output_type": "execute_result"
    }
   ],
   "source": [
    "text[0:3] # first index is included and second index is excluded"
   ]
  },
  {
   "cell_type": "code",
   "execution_count": 4,
   "id": "d652cbb1",
   "metadata": {},
   "outputs": [
    {
     "data": {
      "text/plain": [
       "'cream'"
      ]
     },
     "execution_count": 4,
     "metadata": {},
     "output_type": "execute_result"
    }
   ],
   "source": [
    "text[4:] # goes till end"
   ]
  },
  {
   "cell_type": "code",
   "execution_count": 5,
   "id": "f7644322",
   "metadata": {},
   "outputs": [
    {
     "data": {
      "text/plain": [
       "'ice c'"
      ]
     },
     "execution_count": 5,
     "metadata": {},
     "output_type": "execute_result"
    }
   ],
   "source": [
    "text[:5] # starts from beginning"
   ]
  },
  {
   "cell_type": "code",
   "execution_count": 6,
   "id": "3479b15e",
   "metadata": {},
   "outputs": [
    {
     "name": "stdout",
     "output_type": "stream",
     "text": [
      "29 haynes Avenue\n",
      "St Catharines\n",
      "Ontario, L2R 3Z5\n"
     ]
    },
    {
     "data": {
      "text/plain": [
       "(None, '29 haynes Avenue\\nSt Catharines\\nOntario, L2R 3Z5')"
      ]
     },
     "execution_count": 6,
     "metadata": {},
     "output_type": "execute_result"
    }
   ],
   "source": [
    "address = '''29 haynes Avenue\n",
    "St Catharines\n",
    "Ontario, L2R 3Z5'''\n",
    "print(address), address"
   ]
  },
  {
   "cell_type": "code",
   "execution_count": 7,
   "id": "116f4884",
   "metadata": {},
   "outputs": [
    {
     "data": {
      "text/plain": [
       "'Hello 0.07'"
      ]
     },
     "execution_count": 7,
     "metadata": {},
     "output_type": "execute_result"
    }
   ],
   "source": [
    "s =\"Hello \"\n",
    "n = 0.07\n",
    "s+str(n)"
   ]
  },
  {
   "cell_type": "code",
   "execution_count": 8,
   "id": "65688f89",
   "metadata": {},
   "outputs": [
    {
     "data": {
      "text/plain": [
       "'v'"
      ]
     },
     "execution_count": 8,
     "metadata": {},
     "output_type": "execute_result"
    }
   ],
   "source": [
    "# Lists\n",
    "items = ['b','p','v','f']\n",
    "items[2]"
   ]
  },
  {
   "cell_type": "code",
   "execution_count": 9,
   "id": "5d8f01c8",
   "metadata": {},
   "outputs": [
    {
     "data": {
      "text/plain": [
       "('f', 'v')"
      ]
     },
     "execution_count": 9,
     "metadata": {},
     "output_type": "execute_result"
    }
   ],
   "source": [
    "items[-1], items[-2] # -1 means last element"
   ]
  },
  {
   "cell_type": "code",
   "execution_count": 10,
   "id": "bb03327f",
   "metadata": {},
   "outputs": [
    {
     "data": {
      "text/plain": [
       "['b', 'p', 'v', 'f', 'c']"
      ]
     },
     "execution_count": 10,
     "metadata": {},
     "output_type": "execute_result"
    }
   ],
   "source": [
    "items.append('c')\n",
    "items"
   ]
  },
  {
   "cell_type": "code",
   "execution_count": 11,
   "id": "8869156f",
   "metadata": {},
   "outputs": [
    {
     "data": {
      "text/plain": [
       "['b', 'd', 'p', 'v', 'f', 'c']"
      ]
     },
     "execution_count": 11,
     "metadata": {},
     "output_type": "execute_result"
    }
   ],
   "source": [
    "items.insert(1, 'd')\n",
    "items"
   ]
  },
  {
   "cell_type": "code",
   "execution_count": 12,
   "id": "404be5f3",
   "metadata": {},
   "outputs": [
    {
     "data": {
      "text/plain": [
       "['a', 'b', 'c', 'd']"
      ]
     },
     "execution_count": 12,
     "metadata": {},
     "output_type": "execute_result"
    }
   ],
   "source": [
    "food =['a','b']\n",
    "bathroom = ['c', 'd']\n",
    "food+bathroom # caoncatenation"
   ]
  },
  {
   "cell_type": "code",
   "execution_count": 13,
   "id": "5f03477c",
   "metadata": {},
   "outputs": [
    {
     "data": {
      "text/plain": [
       "6"
      ]
     },
     "execution_count": 13,
     "metadata": {},
     "output_type": "execute_result"
    }
   ],
   "source": [
    "len(items)"
   ]
  },
  {
   "cell_type": "code",
   "execution_count": 14,
   "id": "761cf4ac",
   "metadata": {},
   "outputs": [
    {
     "data": {
      "text/plain": [
       "True"
      ]
     },
     "execution_count": 14,
     "metadata": {},
     "output_type": "execute_result"
    }
   ],
   "source": [
    "'b' in items"
   ]
  },
  {
   "cell_type": "code",
   "execution_count": 21,
   "id": "cc47dec0",
   "metadata": {},
   "outputs": [
    {
     "name": "stdout",
     "output_type": "stream",
     "text": [
      "1\n",
      "9\n",
      "25\n"
     ]
    }
   ],
   "source": [
    "for i in range(1,6):\n",
    "    if(i%2==0):\n",
    "        continue\n",
    "    print(i*i)"
   ]
  },
  {
   "cell_type": "code",
   "execution_count": 29,
   "id": "cb7cf93d",
   "metadata": {},
   "outputs": [
    {
     "data": {
      "text/plain": [
       "6"
      ]
     },
     "execution_count": 29,
     "metadata": {},
     "output_type": "execute_result"
    }
   ],
   "source": [
    "#functions\n",
    "\"\"\" Sum function which takes two arguments\n",
    "And returns the final value\n",
    "\"\"\" # documentation strings\n",
    "def sum(a,b=1): # if b argument is not passed then its default value is given\n",
    "    return a+b\n",
    "sum(5)"
   ]
  },
  {
   "cell_type": "code",
   "execution_count": 26,
   "id": "e2a325d5",
   "metadata": {},
   "outputs": [
    {
     "data": {
      "text/plain": [
       "14"
      ]
     },
     "execution_count": 26,
     "metadata": {},
     "output_type": "execute_result"
    }
   ],
   "source": [
    "sum(5,9)"
   ]
  },
  {
   "cell_type": "code",
   "execution_count": 30,
   "id": "00b4b94e",
   "metadata": {},
   "outputs": [
    {
     "data": {
      "text/plain": [
       "'123456'"
      ]
     },
     "execution_count": 30,
     "metadata": {},
     "output_type": "execute_result"
    }
   ],
   "source": [
    "# Dictionaries (Associate arrays, Hash Tables & Maps) and Tuples\n",
    "d={\n",
    "    \"John\" : \"123456\",\n",
    "    \"Rob\": \"435678\",\n",
    "    \"Jill\": \"435453\"\n",
    "  }\n",
    "d[\"John\"]"
   ]
  },
  {
   "cell_type": "code",
   "execution_count": 32,
   "id": "0ce70bc3",
   "metadata": {},
   "outputs": [
    {
     "data": {
      "text/plain": [
       "{'John': '123456', 'Rob': '435678', 'Jill': '435453', 'Sam': '783425'}"
      ]
     },
     "execution_count": 32,
     "metadata": {},
     "output_type": "execute_result"
    }
   ],
   "source": [
    "d[\"Sam\"] = '783425'\n",
    "d # Order doesn't matter"
   ]
  },
  {
   "cell_type": "code",
   "execution_count": 34,
   "id": "25e85de9",
   "metadata": {},
   "outputs": [
    {
     "name": "stdout",
     "output_type": "stream",
     "text": [
      "key:  John Value:  123456\n",
      "key:  Rob Value:  435678\n",
      "key:  Jill Value:  435453\n",
      "key:  Sam Value:  783425\n"
     ]
    }
   ],
   "source": [
    "#Iterate each item\n",
    "for key in d:\n",
    "    print(\"key: \", key, \"Value: \", d[key])"
   ]
  },
  {
   "cell_type": "code",
   "execution_count": 35,
   "id": "00285225",
   "metadata": {},
   "outputs": [
    {
     "name": "stdout",
     "output_type": "stream",
     "text": [
      "key:  John Value:  123456\n",
      "key:  Rob Value:  435678\n",
      "key:  Jill Value:  435453\n",
      "key:  Sam Value:  783425\n"
     ]
    }
   ],
   "source": [
    "for k,v in d.items():\n",
    "    print(\"key: \", k, \"Value: \", v)"
   ]
  },
  {
   "cell_type": "code",
   "execution_count": 37,
   "id": "884d495f",
   "metadata": {},
   "outputs": [
    {
     "data": {
      "text/plain": [
       "True"
      ]
     },
     "execution_count": 37,
     "metadata": {},
     "output_type": "execute_result"
    }
   ],
   "source": [
    "\"John\" in d"
   ]
  },
  {
   "cell_type": "code",
   "execution_count": 38,
   "id": "44d67882",
   "metadata": {},
   "outputs": [
    {
     "data": {
      "text/plain": [
       "{}"
      ]
     },
     "execution_count": 38,
     "metadata": {},
     "output_type": "execute_result"
    }
   ],
   "source": [
    "d.clear() # Wipe out all entries\n",
    "d"
   ]
  },
  {
   "cell_type": "code",
   "execution_count": 41,
   "id": "4e57ee01",
   "metadata": {},
   "outputs": [
    {
     "data": {
      "text/plain": [
       "(5, 9)"
      ]
     },
     "execution_count": 41,
     "metadata": {},
     "output_type": "execute_result"
    }
   ],
   "source": [
    "# Tuples - List of values are grouped together\n",
    "point = (5,9)\n",
    "point[0], point[1] # in tuple all the values has different meaning like X,Y - heterogeneous"
   ]
  },
  {
   "cell_type": "code",
   "execution_count": null,
   "id": "c7e87402",
   "metadata": {},
   "outputs": [],
   "source": []
  }
 ],
 "metadata": {
  "kernelspec": {
   "display_name": "Python 3 (ipykernel)",
   "language": "python",
   "name": "python3"
  },
  "language_info": {
   "codemirror_mode": {
    "name": "ipython",
    "version": 3
   },
   "file_extension": ".py",
   "mimetype": "text/x-python",
   "name": "python",
   "nbconvert_exporter": "python",
   "pygments_lexer": "ipython3",
   "version": "3.10.9"
  }
 },
 "nbformat": 4,
 "nbformat_minor": 5
}
