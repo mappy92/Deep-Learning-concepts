{
 "cells": [
  {
   "cell_type": "code",
   "execution_count": 1,
   "id": "557b2b55",
   "metadata": {},
   "outputs": [],
   "source": [
    "import numpy as np"
   ]
  },
  {
   "cell_type": "code",
   "execution_count": 2,
   "id": "be954c27",
   "metadata": {},
   "outputs": [],
   "source": [
    "revenue = np.array([[180,200,220],[24,36,40],[12,18,20]])\n",
    "expenses = np.array([[80,90,100],[10,16,20],[8,10,10]])"
   ]
  },
  {
   "cell_type": "code",
   "execution_count": 4,
   "id": "47519f1b",
   "metadata": {},
   "outputs": [
    {
     "data": {
      "text/plain": [
       "array([[100, 110, 120],\n",
       "       [ 14,  20,  20],\n",
       "       [  4,   8,  10]])"
      ]
     },
     "execution_count": 4,
     "metadata": {},
     "output_type": "execute_result"
    }
   ],
   "source": [
    "profit = revenue - expenses\n",
    "profit"
   ]
  },
  {
   "cell_type": "code",
   "execution_count": 12,
   "id": "98d74dfd",
   "metadata": {},
   "outputs": [],
   "source": [
    "price_per_unit = np.array([1000, 400, 1200])\n",
    "units = np.array([[30,40,50],[5,10,15],[2,5,7]])"
   ]
  },
  {
   "cell_type": "code",
   "execution_count": 8,
   "id": "23594910",
   "metadata": {},
   "outputs": [
    {
     "data": {
      "text/plain": [
       "array([[30000, 16000, 60000],\n",
       "       [ 5000,  4000, 18000],\n",
       "       [ 2000,  2000,  8400]])"
      ]
     },
     "execution_count": 8,
     "metadata": {},
     "output_type": "execute_result"
    }
   ],
   "source": [
    "#broadcasting in numpy\n",
    "# price per unit is treated as np.array([1000, 400, 1200], [1000, 400, 1200], [1000, 400, 1200])\n",
    "price_per_unit*units"
   ]
  },
  {
   "cell_type": "code",
   "execution_count": 9,
   "id": "ab6ccc5a",
   "metadata": {},
   "outputs": [
    {
     "data": {
      "text/plain": [
       "array([34400, 50000, 64400])"
      ]
     },
     "execution_count": 9,
     "metadata": {},
     "output_type": "execute_result"
    }
   ],
   "source": [
    "np.dot(price_per_unit,units)"
   ]
  },
  {
   "cell_type": "code",
   "execution_count": 21,
   "id": "aa0593fd",
   "metadata": {},
   "outputs": [
    {
     "data": {
      "text/plain": [
       "array([[15000,  5100,  8250,  6000],\n",
       "       [16500,  5925, 10500,  6375],\n",
       "       [18750,  7875, 13500,  6750]])"
      ]
     },
     "execution_count": 21,
     "metadata": {},
     "output_type": "execute_result"
    }
   ],
   "source": [
    "#exercise\n",
    "ind_comp_revenue = np.array([[200,68,110,80],[220,79,140,85],[250,105,180,90]])\n",
    "ind_comp_revenue*75"
   ]
  },
  {
   "cell_type": "code",
   "execution_count": 23,
   "id": "97467d4a",
   "metadata": {},
   "outputs": [
    {
     "data": {
      "text/plain": [
       "array([[50, 60, 25],\n",
       "       [10, 13,  5],\n",
       "       [40, 70, 52]])"
      ]
     },
     "execution_count": 23,
     "metadata": {},
     "output_type": "execute_result"
    }
   ],
   "source": [
    "units = np.array([[50,60,25],[10,13,5],[40,70,52]])\n",
    "price_per_unit = np.array([20,30, 15])\n",
    "units"
   ]
  },
  {
   "cell_type": "code",
   "execution_count": 24,
   "id": "60bff513",
   "metadata": {},
   "outputs": [
    {
     "data": {
      "text/plain": [
       "array([1900, 2640, 1430])"
      ]
     },
     "execution_count": 24,
     "metadata": {},
     "output_type": "execute_result"
    }
   ],
   "source": [
    "np.dot(price_per_unit,units)"
   ]
  },
  {
   "cell_type": "code",
   "execution_count": null,
   "id": "8d259cae",
   "metadata": {},
   "outputs": [],
   "source": []
  }
 ],
 "metadata": {
  "kernelspec": {
   "display_name": "Python 3 (ipykernel)",
   "language": "python",
   "name": "python3"
  },
  "language_info": {
   "codemirror_mode": {
    "name": "ipython",
    "version": 3
   },
   "file_extension": ".py",
   "mimetype": "text/x-python",
   "name": "python",
   "nbconvert_exporter": "python",
   "pygments_lexer": "ipython3",
   "version": "3.10.9"
  }
 },
 "nbformat": 4,
 "nbformat_minor": 5
}
